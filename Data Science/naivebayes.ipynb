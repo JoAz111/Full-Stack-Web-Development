{
 "metadata": {
  "language_info": {
   "codemirror_mode": {
    "name": "ipython",
    "version": 3
   },
   "file_extension": ".py",
   "mimetype": "text/x-python",
   "name": "python",
   "nbconvert_exporter": "python",
   "pygments_lexer": "ipython3",
   "version": "3.8.5-final"
  },
  "orig_nbformat": 2,
  "kernelspec": {
   "name": "python38532bitcdca606b48a7458ab9c7bb66e4375956",
   "display_name": "Python 3.8.5 32-bit"
  }
 },
 "nbformat": 4,
 "nbformat_minor": 2,
 "cells": [
  {
   "cell_type": "markdown",
   "metadata": {},
   "source": [
    "# Data Science Final Project - Naive Bayes Section\n",
    "## Joey Azizoff - 328953229\n",
    "## Shlomo Kroopnik - \n",
    "---\n",
    "We will start by loading the data into a panda.\n",
    "\n",
    "I cleaned the dataset up a little from what it is on kaggle to make it easier to use within pandas.\n",
    "\n"
   ]
  },
  {
   "cell_type": "code",
   "execution_count": 1,
   "metadata": {},
   "outputs": [],
   "source": [
    "import pandas as pd"
   ]
  },
  {
   "cell_type": "code",
   "execution_count": 2,
   "metadata": {
    "tags": []
   },
   "outputs": [
    {
     "output_type": "execute_result",
     "data": {
      "text/plain": "       id  Gender      Customer Type  Age   Type of Travel     Class  \\\n0   70172    Male     Loyal Customer   13  Personal Travel  Eco Plus   \n1    5047    Male  disloyal Customer   25  Business travel  Business   \n2  110028  Female     Loyal Customer   26  Business travel  Business   \n3   24026  Female     Loyal Customer   25  Business travel  Business   \n4  119299    Male     Loyal Customer   61  Business travel  Business   \n\n   Flight Distance  Inflight wifi service  Departure/Arrival time convenient  \\\n0              460                      3                                  4   \n1              235                      3                                  2   \n2             1142                      2                                  2   \n3              562                      2                                  5   \n4              214                      3                                  3   \n\n   Ease of Online booking  ...  Inflight entertainment  On-board service  \\\n0                       3  ...                       5                 4   \n1                       3  ...                       1                 1   \n2                       2  ...                       5                 4   \n3                       5  ...                       2                 2   \n4                       3  ...                       3                 3   \n\n   Leg room service  Baggage handling  Checkin service  Inflight service  \\\n0                 3                 4                4                 5   \n1                 5                 3                1                 4   \n2                 3                 4                4                 4   \n3                 5                 3                1                 4   \n4                 4                 4                3                 3   \n\n   Cleanliness  Departure Delay in Minutes  Arrival Delay in Minutes  \\\n0            5                          25                      18.0   \n1            1                           1                       6.0   \n2            5                           0                       0.0   \n3            2                          11                       9.0   \n4            3                           0                       0.0   \n\n              satisfaction  \n0  neutral or dissatisfied  \n1  neutral or dissatisfied  \n2                satisfied  \n3  neutral or dissatisfied  \n4                satisfied  \n\n[5 rows x 24 columns]",
      "text/html": "<div>\n<style scoped>\n    .dataframe tbody tr th:only-of-type {\n        vertical-align: middle;\n    }\n\n    .dataframe tbody tr th {\n        vertical-align: top;\n    }\n\n    .dataframe thead th {\n        text-align: right;\n    }\n</style>\n<table border=\"1\" class=\"dataframe\">\n  <thead>\n    <tr style=\"text-align: right;\">\n      <th></th>\n      <th>id</th>\n      <th>Gender</th>\n      <th>Customer Type</th>\n      <th>Age</th>\n      <th>Type of Travel</th>\n      <th>Class</th>\n      <th>Flight Distance</th>\n      <th>Inflight wifi service</th>\n      <th>Departure/Arrival time convenient</th>\n      <th>Ease of Online booking</th>\n      <th>...</th>\n      <th>Inflight entertainment</th>\n      <th>On-board service</th>\n      <th>Leg room service</th>\n      <th>Baggage handling</th>\n      <th>Checkin service</th>\n      <th>Inflight service</th>\n      <th>Cleanliness</th>\n      <th>Departure Delay in Minutes</th>\n      <th>Arrival Delay in Minutes</th>\n      <th>satisfaction</th>\n    </tr>\n  </thead>\n  <tbody>\n    <tr>\n      <th>0</th>\n      <td>70172</td>\n      <td>Male</td>\n      <td>Loyal Customer</td>\n      <td>13</td>\n      <td>Personal Travel</td>\n      <td>Eco Plus</td>\n      <td>460</td>\n      <td>3</td>\n      <td>4</td>\n      <td>3</td>\n      <td>...</td>\n      <td>5</td>\n      <td>4</td>\n      <td>3</td>\n      <td>4</td>\n      <td>4</td>\n      <td>5</td>\n      <td>5</td>\n      <td>25</td>\n      <td>18.0</td>\n      <td>neutral or dissatisfied</td>\n    </tr>\n    <tr>\n      <th>1</th>\n      <td>5047</td>\n      <td>Male</td>\n      <td>disloyal Customer</td>\n      <td>25</td>\n      <td>Business travel</td>\n      <td>Business</td>\n      <td>235</td>\n      <td>3</td>\n      <td>2</td>\n      <td>3</td>\n      <td>...</td>\n      <td>1</td>\n      <td>1</td>\n      <td>5</td>\n      <td>3</td>\n      <td>1</td>\n      <td>4</td>\n      <td>1</td>\n      <td>1</td>\n      <td>6.0</td>\n      <td>neutral or dissatisfied</td>\n    </tr>\n    <tr>\n      <th>2</th>\n      <td>110028</td>\n      <td>Female</td>\n      <td>Loyal Customer</td>\n      <td>26</td>\n      <td>Business travel</td>\n      <td>Business</td>\n      <td>1142</td>\n      <td>2</td>\n      <td>2</td>\n      <td>2</td>\n      <td>...</td>\n      <td>5</td>\n      <td>4</td>\n      <td>3</td>\n      <td>4</td>\n      <td>4</td>\n      <td>4</td>\n      <td>5</td>\n      <td>0</td>\n      <td>0.0</td>\n      <td>satisfied</td>\n    </tr>\n    <tr>\n      <th>3</th>\n      <td>24026</td>\n      <td>Female</td>\n      <td>Loyal Customer</td>\n      <td>25</td>\n      <td>Business travel</td>\n      <td>Business</td>\n      <td>562</td>\n      <td>2</td>\n      <td>5</td>\n      <td>5</td>\n      <td>...</td>\n      <td>2</td>\n      <td>2</td>\n      <td>5</td>\n      <td>3</td>\n      <td>1</td>\n      <td>4</td>\n      <td>2</td>\n      <td>11</td>\n      <td>9.0</td>\n      <td>neutral or dissatisfied</td>\n    </tr>\n    <tr>\n      <th>4</th>\n      <td>119299</td>\n      <td>Male</td>\n      <td>Loyal Customer</td>\n      <td>61</td>\n      <td>Business travel</td>\n      <td>Business</td>\n      <td>214</td>\n      <td>3</td>\n      <td>3</td>\n      <td>3</td>\n      <td>...</td>\n      <td>3</td>\n      <td>3</td>\n      <td>4</td>\n      <td>4</td>\n      <td>3</td>\n      <td>3</td>\n      <td>3</td>\n      <td>0</td>\n      <td>0.0</td>\n      <td>satisfied</td>\n    </tr>\n  </tbody>\n</table>\n<p>5 rows × 24 columns</p>\n</div>"
     },
     "metadata": {},
     "execution_count": 2
    }
   ],
   "source": [
    "train = pd.read_csv(\"train.csv\")\n",
    "train.head(5)"
   ]
  },
  {
   "cell_type": "markdown",
   "metadata": {},
   "source": [
    "---\n",
    "After a quick glance of the data, we can see that some of the data is unecessary, (id, unnamed, flight distance, departure delay in minutes, arrival delay in minutes, string labels that have already been processed) therefore I will drop it.\n",
    "I will also drop satisfaction and set it as our target as that is the outcome we are looking for. And turn age into categorical data were 0 = Child, 1 = Young, 2 = Adult, 3 = Older."
   ]
  },
  {
   "cell_type": "code",
   "execution_count": 3,
   "metadata": {},
   "outputs": [
    {
     "output_type": "execute_result",
     "data": {
      "text/plain": "   Inflight wifi service  Departure/Arrival time convenient  \\\n0                      3                                  4   \n1                      3                                  2   \n2                      2                                  2   \n3                      2                                  5   \n4                      3                                  3   \n\n   Ease of Online booking  Gate location  Food and drink  Online boarding  \\\n0                       3              1               5                3   \n1                       3              3               1                3   \n2                       2              2               5                5   \n3                       5              5               2                2   \n4                       3              3               4                5   \n\n   Seat comfort  Inflight entertainment  On-board service  Leg room service  \\\n0             5                       5                 4                 3   \n1             1                       1                 1                 5   \n2             5                       5                 4                 3   \n3             2                       2                 2                 5   \n4             5                       3                 3                 4   \n\n   Baggage handling  Checkin service  Inflight service  Cleanliness   CAge  \\\n0                 4                4                 5            5  young   \n1                 3                1                 4            1  adult   \n2                 4                4                 4            5  adult   \n3                 3                1                 4            2  adult   \n4                 4                3                 3            3  older   \n\n  arriveDelayCat departDelayCat  \n0    light delay    light delay  \n1    light delay       no delay  \n2            NaN            NaN  \n3    light delay    light delay  \n4            NaN            NaN  ",
      "text/html": "<div>\n<style scoped>\n    .dataframe tbody tr th:only-of-type {\n        vertical-align: middle;\n    }\n\n    .dataframe tbody tr th {\n        vertical-align: top;\n    }\n\n    .dataframe thead th {\n        text-align: right;\n    }\n</style>\n<table border=\"1\" class=\"dataframe\">\n  <thead>\n    <tr style=\"text-align: right;\">\n      <th></th>\n      <th>Inflight wifi service</th>\n      <th>Departure/Arrival time convenient</th>\n      <th>Ease of Online booking</th>\n      <th>Gate location</th>\n      <th>Food and drink</th>\n      <th>Online boarding</th>\n      <th>Seat comfort</th>\n      <th>Inflight entertainment</th>\n      <th>On-board service</th>\n      <th>Leg room service</th>\n      <th>Baggage handling</th>\n      <th>Checkin service</th>\n      <th>Inflight service</th>\n      <th>Cleanliness</th>\n      <th>CAge</th>\n      <th>arriveDelayCat</th>\n      <th>departDelayCat</th>\n    </tr>\n  </thead>\n  <tbody>\n    <tr>\n      <th>0</th>\n      <td>3</td>\n      <td>4</td>\n      <td>3</td>\n      <td>1</td>\n      <td>5</td>\n      <td>3</td>\n      <td>5</td>\n      <td>5</td>\n      <td>4</td>\n      <td>3</td>\n      <td>4</td>\n      <td>4</td>\n      <td>5</td>\n      <td>5</td>\n      <td>young</td>\n      <td>light delay</td>\n      <td>light delay</td>\n    </tr>\n    <tr>\n      <th>1</th>\n      <td>3</td>\n      <td>2</td>\n      <td>3</td>\n      <td>3</td>\n      <td>1</td>\n      <td>3</td>\n      <td>1</td>\n      <td>1</td>\n      <td>1</td>\n      <td>5</td>\n      <td>3</td>\n      <td>1</td>\n      <td>4</td>\n      <td>1</td>\n      <td>adult</td>\n      <td>light delay</td>\n      <td>no delay</td>\n    </tr>\n    <tr>\n      <th>2</th>\n      <td>2</td>\n      <td>2</td>\n      <td>2</td>\n      <td>2</td>\n      <td>5</td>\n      <td>5</td>\n      <td>5</td>\n      <td>5</td>\n      <td>4</td>\n      <td>3</td>\n      <td>4</td>\n      <td>4</td>\n      <td>4</td>\n      <td>5</td>\n      <td>adult</td>\n      <td>NaN</td>\n      <td>NaN</td>\n    </tr>\n    <tr>\n      <th>3</th>\n      <td>2</td>\n      <td>5</td>\n      <td>5</td>\n      <td>5</td>\n      <td>2</td>\n      <td>2</td>\n      <td>2</td>\n      <td>2</td>\n      <td>2</td>\n      <td>5</td>\n      <td>3</td>\n      <td>1</td>\n      <td>4</td>\n      <td>2</td>\n      <td>adult</td>\n      <td>light delay</td>\n      <td>light delay</td>\n    </tr>\n    <tr>\n      <th>4</th>\n      <td>3</td>\n      <td>3</td>\n      <td>3</td>\n      <td>3</td>\n      <td>4</td>\n      <td>5</td>\n      <td>5</td>\n      <td>3</td>\n      <td>3</td>\n      <td>4</td>\n      <td>4</td>\n      <td>3</td>\n      <td>3</td>\n      <td>3</td>\n      <td>older</td>\n      <td>NaN</td>\n      <td>NaN</td>\n    </tr>\n  </tbody>\n</table>\n</div>"
     },
     "metadata": {},
     "execution_count": 3
    }
   ],
   "source": [
    "train['CAge'] = pd.cut(train['Age'], bins = [0, 10, 18, 40, max(train['Age'])], labels = ['child', 'young', 'adult', 'older'])\n",
    "train['arriveDelayCat'] = pd.cut(train['Arrival Delay in Minutes'], bins = [0, 1, 30, 60, max(train['Arrival Delay in Minutes'])], labels = ['no delay', 'light delay', 'medium delay', 'high delay'])\n",
    "train['departDelayCat'] = pd.cut(train['Departure Delay in Minutes'], bins = [0, 1, 30, 60, max(train['Departure Delay in Minutes'])], labels = ['no delay', 'light delay', 'medium delay', 'high delay'])\n",
    "train.drop(['id', 'Flight Distance', 'Departure Delay in Minutes', 'Arrival Delay in Minutes', 'Gender', 'Customer Type', 'Age', 'Type of Travel', 'satisfaction', 'Class' ], axis = 1, inplace = True)\n",
    "train.head(5)"
   ]
  },
  {
   "cell_type": "markdown",
   "metadata": {},
   "source": [
    "---\n",
    "Here I am setting satisfaction as our target and dropping it from the dataset."
   ]
  },
  {
   "cell_type": "code",
   "execution_count": 5,
   "metadata": {},
   "outputs": [],
   "source": [
    "target = train.Satisfaction\n",
    "inputs = train.drop('Satisfaction', axis = 'columns')"
   ]
  },
  {
   "cell_type": "code",
   "execution_count": 9,
   "metadata": {},
   "outputs": [
    {
     "output_type": "error",
     "ename": "OSError",
     "evalue": "[WinError 193] %1 is not a valid Win32 application",
     "traceback": [
      "\u001B[1;31m---------------------------------------------------------------------------\u001B[0m",
      "\u001B[1;31mOSError\u001B[0m                                   Traceback (most recent call last)",
      "\u001B[1;32m<ipython-input-9-030a67a6a778>\u001B[0m in \u001B[0;36m<module>\u001B[1;34m\u001B[0m\n\u001B[1;32m----> 1\u001B[1;33m \u001B[1;32mfrom\u001B[0m \u001B[0msklearn\u001B[0m\u001B[1;33m.\u001B[0m\u001B[0mnaive_bayes\u001B[0m \u001B[1;32mimport\u001B[0m \u001B[0mMultinomialNB\u001B[0m\u001B[1;33m\u001B[0m\u001B[1;33m\u001B[0m\u001B[0m\n\u001B[0m",
      "\u001B[1;32m~\\AppData\\Roaming\\Python\\Python38\\site-packages\\sklearn\\__init__.py\u001B[0m in \u001B[0;36m<module>\u001B[1;34m\u001B[0m\n\u001B[0;32m     76\u001B[0m     \u001B[1;31m# later is linked to the OpenMP runtime to make it possible to introspect\u001B[0m\u001B[1;33m\u001B[0m\u001B[1;33m\u001B[0m\u001B[1;33m\u001B[0m\u001B[0m\n\u001B[0;32m     77\u001B[0m     \u001B[1;31m# it and importing it first would fail if the OpenMP dll cannot be found.\u001B[0m\u001B[1;33m\u001B[0m\u001B[1;33m\u001B[0m\u001B[1;33m\u001B[0m\u001B[0m\n\u001B[1;32m---> 78\u001B[1;33m     \u001B[1;32mfrom\u001B[0m \u001B[1;33m.\u001B[0m \u001B[1;32mimport\u001B[0m \u001B[0m_distributor_init\u001B[0m  \u001B[1;31m# noqa: F401\u001B[0m\u001B[1;33m\u001B[0m\u001B[1;33m\u001B[0m\u001B[0m\n\u001B[0m\u001B[0;32m     79\u001B[0m     \u001B[1;32mfrom\u001B[0m \u001B[1;33m.\u001B[0m \u001B[1;32mimport\u001B[0m \u001B[0m__check_build\u001B[0m  \u001B[1;31m# noqa: F401\u001B[0m\u001B[1;33m\u001B[0m\u001B[1;33m\u001B[0m\u001B[0m\n\u001B[0;32m     80\u001B[0m     \u001B[1;32mfrom\u001B[0m \u001B[1;33m.\u001B[0m\u001B[0mbase\u001B[0m \u001B[1;32mimport\u001B[0m \u001B[0mclone\u001B[0m\u001B[1;33m\u001B[0m\u001B[1;33m\u001B[0m\u001B[0m\n",
      "\u001B[1;32m~\\AppData\\Roaming\\Python\\Python38\\site-packages\\sklearn\\_distributor_init.py\u001B[0m in \u001B[0;36m<module>\u001B[1;34m\u001B[0m\n\u001B[0;32m     16\u001B[0m     \u001B[1;31m# Pre-load the DLL stored in sklearn/.libs by convention.\u001B[0m\u001B[1;33m\u001B[0m\u001B[1;33m\u001B[0m\u001B[1;33m\u001B[0m\u001B[0m\n\u001B[0;32m     17\u001B[0m     \u001B[0mdll_path\u001B[0m \u001B[1;33m=\u001B[0m \u001B[0mop\u001B[0m\u001B[1;33m.\u001B[0m\u001B[0mjoin\u001B[0m\u001B[1;33m(\u001B[0m\u001B[0mop\u001B[0m\u001B[1;33m.\u001B[0m\u001B[0mdirname\u001B[0m\u001B[1;33m(\u001B[0m\u001B[0m__file__\u001B[0m\u001B[1;33m)\u001B[0m\u001B[1;33m,\u001B[0m \u001B[1;34m'.libs'\u001B[0m\u001B[1;33m,\u001B[0m \u001B[1;34m'vcomp140.dll'\u001B[0m\u001B[1;33m)\u001B[0m\u001B[1;33m\u001B[0m\u001B[1;33m\u001B[0m\u001B[0m\n\u001B[1;32m---> 18\u001B[1;33m     \u001B[0mWinDLL\u001B[0m\u001B[1;33m(\u001B[0m\u001B[0mop\u001B[0m\u001B[1;33m.\u001B[0m\u001B[0mabspath\u001B[0m\u001B[1;33m(\u001B[0m\u001B[0mdll_path\u001B[0m\u001B[1;33m)\u001B[0m\u001B[1;33m)\u001B[0m\u001B[1;33m\u001B[0m\u001B[1;33m\u001B[0m\u001B[0m\n\u001B[0m\u001B[0;32m     19\u001B[0m \u001B[1;33m\u001B[0m\u001B[0m\n",
      "\u001B[1;32m~\\AppData\\Local\\Programs\\Python\\Python38-32\\lib\\ctypes\\__init__.py\u001B[0m in \u001B[0;36m__init__\u001B[1;34m(self, name, mode, handle, use_errno, use_last_error, winmode)\u001B[0m\n\u001B[0;32m    371\u001B[0m \u001B[1;33m\u001B[0m\u001B[0m\n\u001B[0;32m    372\u001B[0m         \u001B[1;32mif\u001B[0m \u001B[0mhandle\u001B[0m \u001B[1;32mis\u001B[0m \u001B[1;32mNone\u001B[0m\u001B[1;33m:\u001B[0m\u001B[1;33m\u001B[0m\u001B[1;33m\u001B[0m\u001B[0m\n\u001B[1;32m--> 373\u001B[1;33m             \u001B[0mself\u001B[0m\u001B[1;33m.\u001B[0m\u001B[0m_handle\u001B[0m \u001B[1;33m=\u001B[0m \u001B[0m_dlopen\u001B[0m\u001B[1;33m(\u001B[0m\u001B[0mself\u001B[0m\u001B[1;33m.\u001B[0m\u001B[0m_name\u001B[0m\u001B[1;33m,\u001B[0m \u001B[0mmode\u001B[0m\u001B[1;33m)\u001B[0m\u001B[1;33m\u001B[0m\u001B[1;33m\u001B[0m\u001B[0m\n\u001B[0m\u001B[0;32m    374\u001B[0m         \u001B[1;32melse\u001B[0m\u001B[1;33m:\u001B[0m\u001B[1;33m\u001B[0m\u001B[1;33m\u001B[0m\u001B[0m\n\u001B[0;32m    375\u001B[0m             \u001B[0mself\u001B[0m\u001B[1;33m.\u001B[0m\u001B[0m_handle\u001B[0m \u001B[1;33m=\u001B[0m \u001B[0mhandle\u001B[0m\u001B[1;33m\u001B[0m\u001B[1;33m\u001B[0m\u001B[0m\n",
      "\u001B[1;31mOSError\u001B[0m: [WinError 193] %1 is not a valid Win32 application"
     ]
    }
   ],
   "source": [
    "from sklearn.naive_bayes import MultinomialNB"
   ]
  },
  {
   "cell_type": "code",
   "execution_count": null,
   "metadata": {},
   "outputs": [],
   "source": []
  }
 ]
}